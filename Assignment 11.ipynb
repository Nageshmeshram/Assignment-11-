{
 "cells": [
  {
   "cell_type": "markdown",
   "id": "2d952a22",
   "metadata": {},
   "source": [
    "1. Create an assert statement that throws an AssertionError if the variable spam is a negative\n",
    "integer.\n",
    "Answer:\n",
    "assert is respose the condition which is true othervise it gives an AssertionError, like as following example"
   ]
  },
  {
   "cell_type": "code",
   "execution_count": 2,
   "id": "de3f054f",
   "metadata": {},
   "outputs": [
    {
     "ename": "AssertionError",
     "evalue": "Spam is negative",
     "output_type": "error",
     "traceback": [
      "\u001b[1;31m---------------------------------------------------------------------------\u001b[0m",
      "\u001b[1;31mAssertionError\u001b[0m                            Traceback (most recent call last)",
      "Input \u001b[1;32mIn [2]\u001b[0m, in \u001b[0;36m<cell line: 2>\u001b[1;34m()\u001b[0m\n\u001b[0;32m      1\u001b[0m spam \u001b[38;5;241m=\u001b[39m \u001b[38;5;241m10\u001b[39m\n\u001b[1;32m----> 2\u001b[0m \u001b[38;5;28;01massert\u001b[39;00m spam \u001b[38;5;241m<\u001b[39m \u001b[38;5;241m0\u001b[39m , \u001b[38;5;124m'\u001b[39m\u001b[38;5;124mSpam is negative\u001b[39m\u001b[38;5;124m'\u001b[39m\n",
      "\u001b[1;31mAssertionError\u001b[0m: Spam is negative"
     ]
    }
   ],
   "source": [
    "spam = 10\n",
    "assert spam < 0 , 'Spam is negative'"
   ]
  },
  {
   "cell_type": "markdown",
   "id": "f6eff215",
   "metadata": {},
   "source": [
    "2. Write an assert statement that triggers an AssertionError if the variables eggs and bacon contain\n",
    "strings that are the same as each other, even if their cases are different (that is, 'hello' and 'hello' are\n",
    "considered the same, and 'goodbye' and 'GOODbye' are also considered the same).\n",
    "Answer: \n",
    "as per following example here we can use the string function lower() or upper()\n"
   ]
  },
  {
   "cell_type": "code",
   "execution_count": 4,
   "id": "2895dce6",
   "metadata": {},
   "outputs": [
    {
     "name": "stdout",
     "output_type": "stream",
     "text": [
      "both are same meanings\n"
     ]
    }
   ],
   "source": [
    "eggs = 'hello'\n",
    "bacon = 'hello'\n",
    "assert eggs.upper() == bacon.upper() , 'not same'\n",
    "print('both are same meanings')"
   ]
  },
  {
   "cell_type": "code",
   "execution_count": 5,
   "id": "7f110f65",
   "metadata": {},
   "outputs": [
    {
     "name": "stdout",
     "output_type": "stream",
     "text": [
      "both are same meanings\n"
     ]
    }
   ],
   "source": [
    "eggs = 'goodbye'\n",
    "bacon = 'GOODbye'\n",
    "assert eggs.upper() == bacon.upper() , 'not same'\n",
    "print('both are same meanings')"
   ]
  },
  {
   "cell_type": "code",
   "execution_count": 6,
   "id": "1cc9d691",
   "metadata": {},
   "outputs": [
    {
     "ename": "AssertionError",
     "evalue": "not same",
     "output_type": "error",
     "traceback": [
      "\u001b[1;31m---------------------------------------------------------------------------\u001b[0m",
      "\u001b[1;31mAssertionError\u001b[0m                            Traceback (most recent call last)",
      "Input \u001b[1;32mIn [6]\u001b[0m, in \u001b[0;36m<cell line: 4>\u001b[1;34m()\u001b[0m\n\u001b[0;32m      2\u001b[0m eggs \u001b[38;5;241m=\u001b[39m \u001b[38;5;124m'\u001b[39m\u001b[38;5;124mgoodbye\u001b[39m\u001b[38;5;124m'\u001b[39m\n\u001b[0;32m      3\u001b[0m bacon \u001b[38;5;241m=\u001b[39m \u001b[38;5;124m'\u001b[39m\u001b[38;5;124mGOODbye\u001b[39m\u001b[38;5;124m'\u001b[39m\n\u001b[1;32m----> 4\u001b[0m \u001b[38;5;28;01massert\u001b[39;00m eggs  \u001b[38;5;241m==\u001b[39m bacon  , \u001b[38;5;124m'\u001b[39m\u001b[38;5;124mnot same\u001b[39m\u001b[38;5;124m'\u001b[39m\n\u001b[0;32m      5\u001b[0m \u001b[38;5;28mprint\u001b[39m(\u001b[38;5;124m'\u001b[39m\u001b[38;5;124mboth are same meanings\u001b[39m\u001b[38;5;124m'\u001b[39m)\n",
      "\u001b[1;31mAssertionError\u001b[0m: not same"
     ]
    }
   ],
   "source": [
    "# this line of code will give the AssertionError \n",
    "eggs = 'goodbye'\n",
    "bacon = 'GOODbye'\n",
    "assert eggs  == bacon  , 'not same'\n",
    "print('both are same meanings')"
   ]
  },
  {
   "cell_type": "markdown",
   "id": "202e9c17",
   "metadata": {},
   "source": [
    "3. Create an assert statement that throws an AssertionError every time.\n",
    "Answer: assert False this statment always gives the an AssertionError every single time\n"
   ]
  },
  {
   "cell_type": "code",
   "execution_count": 7,
   "id": "a6732eb2",
   "metadata": {},
   "outputs": [
    {
     "ename": "AssertionError",
     "evalue": "",
     "output_type": "error",
     "traceback": [
      "\u001b[1;31m---------------------------------------------------------------------------\u001b[0m",
      "\u001b[1;31mAssertionError\u001b[0m                            Traceback (most recent call last)",
      "Input \u001b[1;32mIn [7]\u001b[0m, in \u001b[0;36m<cell line: 1>\u001b[1;34m()\u001b[0m\n\u001b[1;32m----> 1\u001b[0m \u001b[38;5;28;01massert\u001b[39;00m \u001b[38;5;28;01mFalse\u001b[39;00m\n",
      "\u001b[1;31mAssertionError\u001b[0m: "
     ]
    }
   ],
   "source": [
    "assert False"
   ]
  },
  {
   "cell_type": "markdown",
   "id": "5f2e6a4b",
   "metadata": {},
   "source": [
    "4. What are the two lines that must be present in your software in order to call logging.debug()?\n",
    "Answer: we have to import the logging and as per following example"
   ]
  },
  {
   "cell_type": "code",
   "execution_count": 10,
   "id": "216d3642",
   "metadata": {},
   "outputs": [],
   "source": [
    "import logging \n",
    "logging.basicConfig(filename = 'Abcd.log', level = logging.DEBUG , format = '%(levelname)s %(name)s %(asctime)s %(massage)')\n"
   ]
  },
  {
   "cell_type": "markdown",
   "id": "20be383d",
   "metadata": {},
   "source": [
    "5. What are the two lines that your program must have in order to have logging.debug() send a\n",
    "logging message to a file named programLog.txt?\n",
    "Answer:\n"
   ]
  },
  {
   "cell_type": "code",
   "execution_count": 11,
   "id": "1c6a62d4",
   "metadata": {},
   "outputs": [],
   "source": [
    "import logging\n",
    "\n",
    "logging.basicConfig(filename='programLog.txt', level=logging.DEBUG,)"
   ]
  },
  {
   "cell_type": "markdown",
   "id": "11330262",
   "metadata": {},
   "source": [
    "6. What are the five levels of logging?\n",
    "Answer:\n",
    "            DEBUG\n",
    "            INFO \n",
    "            WARNING\n",
    "            ERROR \n",
    "            CRITICAL"
   ]
  },
  {
   "cell_type": "markdown",
   "id": "fab64ecb",
   "metadata": {},
   "source": [
    "7. What line of code would you add to your software to disable all logging messages?\n",
    "Answer:\n",
    "logging.disable(logging.CRITICAL)"
   ]
  },
  {
   "cell_type": "code",
   "execution_count": 12,
   "id": "7ce35b55",
   "metadata": {},
   "outputs": [],
   "source": [
    "logging.disable(logging.CRITICAL)"
   ]
  },
  {
   "cell_type": "code",
   "execution_count": null,
   "id": "8d238cba",
   "metadata": {},
   "outputs": [],
   "source": []
  },
  {
   "cell_type": "markdown",
   "id": "835e49e6",
   "metadata": {},
   "source": [
    "8. Why is using logging messages better than using print() to display the same message?\n",
    "Answer:\n",
    "Logging masseges can store in one file as it is not in print() we can disable logging messages without removing the logging function calls. we can selectively disable lower-level logging messages. You can create logging messages. Logging messages provides a timestamp."
   ]
  },
  {
   "cell_type": "markdown",
   "id": "a37eae6c",
   "metadata": {},
   "source": [
    "9. What are the differences between the Step Over, Step In, and Step Out buttons in the debugger?\n",
    "Answer:\n",
    "The Step button will move the debugger into a function call. The Over button will quickly execute the function call without stepping into it. The Out button will quickly execute the rest of the code until it steps out of the function it currently is in."
   ]
  },
  {
   "cell_type": "markdown",
   "id": "b03f3a8e",
   "metadata": {},
   "source": [
    "10. After you click Continue, when will the debugger stop ?\n",
    "Answer:\n",
    "After you click Go, the debugger will stop when it has reached the end of the program or a line with a breakpoint."
   ]
  },
  {
   "cell_type": "markdown",
   "id": "5cd69da8",
   "metadata": {},
   "source": [
    "11. What is the concept of a breakpoint?\n",
    "Answer:\n",
    "breakpoint is an intentional stopping or pausing place in a program, put in place for debugging purposes. It is also sometimes simply referred to as a pause."
   ]
  },
  {
   "cell_type": "code",
   "execution_count": 13,
   "id": "e3e84975",
   "metadata": {},
   "outputs": [
    {
     "name": "stdout",
     "output_type": "stream",
     "text": [
      "Hi\n",
      "Hello\n"
     ]
    }
   ],
   "source": [
    "x = 10\n",
    "y = 'Hi'\n",
    "z = 'Hello'\n",
    "print(y)\n",
    "\n",
    "breakpoint()\n",
    "\n",
    "print(z)"
   ]
  }
 ],
 "metadata": {
  "kernelspec": {
   "display_name": "Python 3 (ipykernel)",
   "language": "python",
   "name": "python3"
  },
  "language_info": {
   "codemirror_mode": {
    "name": "ipython",
    "version": 3
   },
   "file_extension": ".py",
   "mimetype": "text/x-python",
   "name": "python",
   "nbconvert_exporter": "python",
   "pygments_lexer": "ipython3",
   "version": "3.9.12"
  }
 },
 "nbformat": 4,
 "nbformat_minor": 5
}
